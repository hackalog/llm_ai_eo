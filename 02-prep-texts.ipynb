{
 "cells": [
  {
   "cell_type": "code",
   "execution_count": 1,
   "id": "86627e37",
   "metadata": {},
   "outputs": [],
   "source": [
    "%load_ext autoreload\n",
    "%autoreload 2"
   ]
  },
  {
   "cell_type": "code",
   "execution_count": 63,
   "id": "9f8b5c70",
   "metadata": {},
   "outputs": [],
   "source": [
    "import spacy\n",
    "import pathlib\n",
    "from collections import namedtuple"
   ]
  },
  {
   "cell_type": "code",
   "execution_count": 5,
   "id": "ce1f2e3b",
   "metadata": {},
   "outputs": [],
   "source": [
    "nlp = spacy.load(\"en_core_web_sm\")"
   ]
  },
  {
   "cell_type": "code",
   "execution_count": 65,
   "id": "4711444b",
   "metadata": {},
   "outputs": [],
   "source": [
    "data_path = pathlib.Path(\"data/raw\")\n",
    "output_path = pathlib.Path(\"data/processed\")\n",
    "DocPair = namedtuple('DocPair', ['infile','outfile'])"
   ]
  },
  {
   "cell_type": "code",
   "execution_count": 69,
   "id": "f8975191",
   "metadata": {},
   "outputs": [],
   "source": [
    "doclist = [\n",
    "    DocPair(outfile=\"us-eo-lines.txt\", \n",
    "            infile=\"US Executive Order on the Safe, Secure, and Trustworthy Development and Use of Artificial Intelligence.md\"),\n",
    "    DocPair(outfile=\"tbs-automated-decisions.txt\",\n",
    "            infile=\"TBS Directive on Automated Decision-Making.md\"),\n",
    "]"
   ]
  },
  {
   "cell_type": "code",
   "execution_count": 70,
   "id": "b76ba379",
   "metadata": {},
   "outputs": [],
   "source": [
    "# Load the spaCy model with the statistical sentencizer\n",
    "nlp_sentencizer = spacy.lang.en.English()\n",
    "# Add the sentencizer component explicitly (if not already added)\n",
    "if \"sentencizer\" not in nlp_sentencizer.pipe_names:\n",
    "    nlp_sentencizer.create_pipe(\"sentencizer\")\n",
    "    nlp_sentencizer.add_pipe(\"sentencizer\")\n",
    "\n",
    "# Load the full spaCy English model\n",
    "nlp_full_model = spacy.load(\"en_core_web_sm\")\n",
    "\n"
   ]
  },
  {
   "cell_type": "code",
   "execution_count": 71,
   "id": "b88af040",
   "metadata": {},
   "outputs": [
    {
     "name": "stdout",
     "output_type": "stream",
     "text": [
      "Splitting US Executive Order on the Safe, Secure, and Trustworthy Development and Use of Artificial Intelligence.md -> us-eo-lines.txt\n",
      "Splitting TBS Directive on Automated Decision-Making.md -> tbs-automated-decisions.txt\n"
     ]
    }
   ],
   "source": [
    "for docs in doclist:\n",
    "    input_file = data_path / docs.infile\n",
    "    output_file = output_path / docs.outfile\n",
    "    \n",
    "    # Read the text from the file\n",
    "    with open(input_file, 'r', encoding='utf-8') as file:\n",
    "        text = file.read()\n",
    "    print(f\"Splitting {docs.infile} -> {docs.outfile}\")\n",
    "\n",
    "    # Tokenize using the statistical sentencizer\n",
    "    doc_sentencizer = nlp_sentencizer(text)\n",
    "    sentences_sentencizer = [sent.text for sent in doc_sentencizer.sents]\n",
    "    # Tokenize using the full spaCy English model\n",
    "    #doc_full_model = nlp_full_model(text)\n",
    "    #sentences_full_model = [sent.text for sent in doc_full_model.sents]\n",
    "    \n",
    "    with open (output_file, \"w\") as fw:\n",
    "        for sentence in sentences_sentencizer:\n",
    "            if sentence.rstrip():\n",
    "                fw.write(sentence) \n",
    "    "
   ]
  },
  {
   "cell_type": "code",
   "execution_count": 60,
   "id": "e7f20ebb",
   "metadata": {},
   "outputs": [],
   "source": []
  },
  {
   "cell_type": "code",
   "execution_count": 62,
   "id": "74f34b99",
   "metadata": {},
   "outputs": [
    {
     "name": "stdout",
     "output_type": "stream",
     "text": [
      "# Executive Order on the Safe, Secure, and Trustworthy Development and Use of Artificial Intelligence\r\n",
      "\r\n",
      "     By the authority vested in me as President by the Constitution and the laws of the United States of America, it is hereby ordered as follows:\r\n",
      "\r\n",
      "     Section 1.  Purpose.  Artificial intelligence (AI) holds extraordinary potential for both promise and peril.  Responsible AI use has the potential to help solve urgent challenges while making our world more prosperous, productive, innovative, and secure.  At the same time, irresponsible use could exacerbate societal harms such as fraud, discrimination, bias, and disinformation; displace and disempower workers; stifle competition; and pose risks to national security.  Harnessing AI for good and realizing its myriad benefits requires mitigating its substantial risks.  This endeavor demands a society-wide effort that includes government, the private sector, academia, and civil society.\r\n",
      "\r\n",
      "     My Administration places the highest urgency on governing the development and use of AI safely and responsibly, and is therefore advancing a coordinated, Federal Government-wide approach to doing so. The rapid speed at which AI capabilities are advancing compels the United States to lead in this moment for the sake of our security, economy, and society.\r\n",
      "\r\n",
      "     In the end, AI reflects the principles of the people who build it, the people who use it, and the data upon which it is built.  I firmly believe that the power of our ideals; the foundations of our society; and the creativity, diversity, and decency of our people are the reasons that America thrived in past eras of rapid change.  They are the reasons we will succeed again in this moment.  We are more than capable of harnessing AI for justice, security, and opportunity for all.\r\n",
      "\r\n"
     ]
    }
   ],
   "source": [
    "!head $output_path/\"us-eo-lines.txt\""
   ]
  },
  {
   "cell_type": "code",
   "execution_count": null,
   "id": "de531468",
   "metadata": {},
   "outputs": [],
   "source": []
  }
 ],
 "metadata": {
  "kernelspec": {
   "display_name": "llm_ai_eo",
   "language": "python",
   "name": "llm_ai_eo"
  },
  "language_info": {
   "codemirror_mode": {
    "name": "ipython",
    "version": 3
   },
   "file_extension": ".py",
   "mimetype": "text/x-python",
   "name": "python",
   "nbconvert_exporter": "python",
   "pygments_lexer": "ipython3",
   "version": "3.11.6"
  }
 },
 "nbformat": 4,
 "nbformat_minor": 5
}
